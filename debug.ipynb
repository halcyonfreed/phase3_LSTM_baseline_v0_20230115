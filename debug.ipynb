{
 "cells": [
  {
   "cell_type": "markdown",
   "metadata": {},
   "source": [
    "测试data内容"
   ]
  },
  {
   "cell_type": "code",
   "execution_count": 2,
   "metadata": {},
   "outputs": [],
   "source": [
    "import scipy.io as scp"
   ]
  },
  {
   "cell_type": "code",
   "execution_count": 3,
   "metadata": {},
   "outputs": [],
   "source": [
    "trainset=scp.loadmat('data/TrainSet.mat')\n",
    "validset=scp.loadmat('data/ValSet.mat')\n",
    "testset=scp.loadmat('data/TestSet.mat')"
   ]
  },
  {
   "cell_type": "code",
   "execution_count": 4,
   "metadata": {},
   "outputs": [
    {
     "name": "stdout",
     "output_type": "stream",
     "text": [
      "<class 'dict'>\n",
      "5\n",
      "dict_keys(['__header__', '__version__', '__globals__', 'tracks', 'traj'])\n",
      "b'MATLAB 5.0 MAT-file, Platform: PCWIN64, Created on: Sun Oct 10 16:12:44 2021'\n"
     ]
    }
   ],
   "source": [
    "# print(trainset)\n",
    "print(type(trainset))\n",
    "print(len(trainset))\n",
    "print(trainset.keys())\n",
    "print(trainset['__header__'])"
   ]
  },
  {
   "cell_type": "code",
   "execution_count": 11,
   "metadata": {},
   "outputs": [
    {
     "name": "stdout",
     "output_type": "stream",
     "text": [
      "<class 'numpy.ndarray'>\n",
      "<class 'numpy.ndarray'>\n",
      "trainset\"s traj shape:  (5922867, 47)\n",
      "trainset\"s tracks shape:  (6, 2356)\n"
     ]
    }
   ],
   "source": [
    "print(type(trainset['traj']))\n",
    "print(type(trainset['tracks']))\n",
    "print('trainset\"s traj shape: ',trainset['traj'].shape)\n",
    "print('trainset\"s tracks shape: ',trainset['tracks'].shape)"
   ]
  },
  {
   "cell_type": "code",
   "execution_count": 4,
   "metadata": {},
   "outputs": [
    {
     "name": "stdout",
     "output_type": "stream",
     "text": [
      "train_tracks shape： (6, 2356)\n",
      "valid_tracks shape: (6, 2499)\n",
      "test_tracks shape: (6, 3366)\n"
     ]
    }
   ],
   "source": [
    "train_tracks=trainset['tracks']\n",
    "valid_tracks=validset['tracks']\n",
    "test_tracks=testset['tracks']\n",
    "# print(tracks)\n",
    "# print(type(tracks))\n",
    "print('train_tracks shape：',train_tracks.shape)\n",
    "print('valid_tracks shape:',valid_tracks.shape)\n",
    "print('test_tracks shape:',test_tracks.shape)"
   ]
  },
  {
   "cell_type": "code",
   "execution_count": 6,
   "metadata": {},
   "outputs": [
    {
     "ename": "IndexError",
     "evalue": "index 2356 is out of bounds for axis 1 with size 2356",
     "output_type": "error",
     "traceback": [
      "\u001b[1;31m---------------------------------------------------------------------------\u001b[0m",
      "\u001b[1;31mIndexError\u001b[0m                                Traceback (most recent call last)",
      "\u001b[1;32md:\\2023\\prediction\\Project1_NGSIM\\baseline3.0_csLSTM\\conv-social-pooling-master\\phase3_LSTM_baseline_v0_20230115\\debug.ipynb Cell 7\u001b[0m in \u001b[0;36m<cell line: 1>\u001b[1;34m()\u001b[0m\n\u001b[1;32m----> <a href='vscode-notebook-cell:/d%3A/2023/prediction/Project1_NGSIM/baseline3.0_csLSTM/conv-social-pooling-master/phase3_LSTM_baseline_v0_20230115/debug.ipynb#W6sZmlsZQ%3D%3D?line=0'>1</a>\u001b[0m \u001b[39mprint\u001b[39m(train_tracks[\u001b[39m0\u001b[39;49m,\u001b[39m2356\u001b[39;49m])\n",
      "\u001b[1;31mIndexError\u001b[0m: index 2356 is out of bounds for axis 1 with size 2356"
     ]
    }
   ],
   "source": [
    "print(train_tracks[0,2355])"
   ]
  },
  {
   "cell_type": "code",
   "execution_count": 31,
   "metadata": {},
   "outputs": [
    {
     "name": "stdout",
     "output_type": "stream",
     "text": [
      "<class 'numpy.ndarray'> \n",
      "\n",
      "[[1953.    1954.    1955.    ... 2419.    2420.    2421.   ]\n",
      " [  38.953   38.936   38.917 ...   32.171   32.166   32.161]\n",
      " [  35.609   39.109   42.609 ... 2112.58  2119.08  2125.08 ]\n",
      " [   4.       4.       4.    ...    3.       3.       3.   ]] \n",
      "\n",
      "(2356,) \n",
      "\n"
     ]
    }
   ],
   "source": [
    "print(type(train_tracks[0][820]),'\\n')\n",
    "print(train_tracks[0][820],'\\n')\n",
    "print(train_tracks[3].shape,'\\n')"
   ]
  },
  {
   "cell_type": "code",
   "execution_count": 13,
   "metadata": {},
   "outputs": [
    {
     "name": "stdout",
     "output_type": "stream",
     "text": [
      "train traj shape:  (5922867, 47)\n",
      "valid traj shape:  (859769, 47)\n",
      "test traj shape:  (1505756, 47)\n",
      "[  1.      2.     43.     16.724 148.784   2.      1.      1.      0.\n",
      "   0.      0.      0.      0.      0.      0.      0.      0.      0.\n",
      "   0.      0.      0.      0.      0.      0.     13.      0.      0.\n",
      "   0.      0.      0.      0.      0.      0.      0.      0.      0.\n",
      "   0.      0.      0.      0.      0.      0.      0.      0.      0.\n",
      "   0.      0.   ]\n"
     ]
    }
   ],
   "source": [
    "train_traj=trainset['traj']\n",
    "valid_traj=validset['traj']\n",
    "test_traj=testset['traj']\n",
    "# print(traj)\n",
    "# print(type(traj))\n",
    "print('train traj shape: ',train_traj.shape)\n",
    "print('valid traj shape: ',valid_traj.shape)\n",
    "print('test traj shape: ',test_traj.shape)\n"
   ]
  },
  {
   "cell_type": "code",
   "execution_count": 35,
   "metadata": {},
   "outputs": [
    {
     "name": "stdout",
     "output_type": "stream",
     "text": [
      "[1.000000e+00 4.000000e+01 4.000000e+02 3.176100e+01 1.517488e+03\n",
      " 3.000000e+00 1.000000e+00 1.000000e+00 0.000000e+00 0.000000e+00\n",
      " 0.000000e+00 0.000000e+00 0.000000e+00 3.200000e+01 0.000000e+00\n",
      " 0.000000e+00 0.000000e+00 0.000000e+00 2.600000e+01 0.000000e+00\n",
      " 0.000000e+00 0.000000e+00 4.400000e+01 0.000000e+00 0.000000e+00\n",
      " 0.000000e+00 0.000000e+00 0.000000e+00 0.000000e+00 0.000000e+00\n",
      " 0.000000e+00 0.000000e+00 0.000000e+00 0.000000e+00 0.000000e+00\n",
      " 0.000000e+00 2.500000e+01 0.000000e+00 0.000000e+00 0.000000e+00\n",
      " 0.000000e+00 0.000000e+00 0.000000e+00 0.000000e+00 0.000000e+00\n",
      " 2.100000e+01 0.000000e+00]\n"
     ]
    }
   ],
   "source": [
    "print(train_traj[9950])"
   ]
  },
  {
   "cell_type": "code",
   "execution_count": 70,
   "metadata": {},
   "outputs": [
    {
     "data": {
      "text/plain": [
       "array([[1, 2, 3],\n",
       "       [2, 3, 4]])"
      ]
     },
     "execution_count": 70,
     "metadata": {},
     "output_type": "execute_result"
    }
   ],
   "source": [
    "import numpy as np\n",
    "a=np.array([[1,2,3],[2,3,4]])\n",
    "# a.shape\n",
    "a"
   ]
  },
  {
   "cell_type": "code",
   "execution_count": 7,
   "metadata": {},
   "outputs": [
    {
     "name": "stdout",
     "output_type": "stream",
     "text": [
      "tensor([[1.1000, 2.2000, 3.3000],\n",
      "        [0.0000, 0.0000, 0.0000]])\n",
      "tensor([[1.1000, 0.0000],\n",
      "        [2.2000, 0.0000],\n",
      "        [3.3000, 0.0000]])\n",
      "tensor([[0., 0., 0.],\n",
      "        [0., 0., 0.]])\n",
      "tensor([[0., 0., 0.],\n",
      "        [0., 0., 0.]])\n"
     ]
    }
   ],
   "source": [
    "import torch\n",
    "a=torch.tensor([[1.1,2.2,3.3],[0,0,0]])\n",
    "print(a)\n",
    "c=a.permute(1,0)\n",
    "print(c)\n",
    "b=torch.zeros_like(a).float()\n",
    "print(b)\n",
    "b=b.masked_scatter_(b,a)\n",
    "print(b)"
   ]
  },
  {
   "cell_type": "code",
   "execution_count": 7,
   "metadata": {},
   "outputs": [
    {
     "name": "stdout",
     "output_type": "stream",
     "text": [
      "2022-12-05-16-19-18\n"
     ]
    },
    {
     "ename": "RuntimeError",
     "evalue": "[enforce fail at C:\\actions-runner\\_work\\pytorch\\pytorch\\builder\\windows\\pytorch\\caffe2\\serialize\\inline_container.cc:354] . invalid file name: models\\2022-12-05-16-19-18\\.csv",
     "output_type": "error",
     "traceback": [
      "\u001b[1;31m---------------------------------------------------------------------------\u001b[0m",
      "\u001b[1;31mRuntimeError\u001b[0m                              Traceback (most recent call last)",
      "\u001b[1;32md:\\2022\\prediction\\Project1_NGSIM\\baseline3.0_csLSTM\\conv-social-pooling-master\\NGSIM_try\\debug.ipynb Cell 9\u001b[0m in \u001b[0;36m<cell line: 11>\u001b[1;34m()\u001b[0m\n\u001b[0;32m      <a href='vscode-notebook-cell:/d%3A/2022/prediction/Project1_NGSIM/baseline3.0_csLSTM/conv-social-pooling-master/NGSIM_try/debug.ipynb#X11sZmlsZQ%3D%3D?line=8'>9</a>\u001b[0m model_path\u001b[39m=\u001b[39mos\u001b[39m.\u001b[39mpath\u001b[39m.\u001b[39mjoin(\u001b[39m'\u001b[39m\u001b[39mmodels\u001b[39m\u001b[39m'\u001b[39m,file_time,\u001b[39m'\u001b[39m\u001b[39m.csv\u001b[39m\u001b[39m'\u001b[39m)\n\u001b[0;32m     <a href='vscode-notebook-cell:/d%3A/2022/prediction/Project1_NGSIM/baseline3.0_csLSTM/conv-social-pooling-master/NGSIM_try/debug.ipynb#X11sZmlsZQ%3D%3D?line=9'>10</a>\u001b[0m a\u001b[39m=\u001b[39mtorch\u001b[39m.\u001b[39mtensor([[\u001b[39m1.1\u001b[39m,\u001b[39m2.2\u001b[39m,\u001b[39m3.3\u001b[39m],[\u001b[39m0\u001b[39m,\u001b[39m0\u001b[39m,\u001b[39m0\u001b[39m]])\n\u001b[1;32m---> <a href='vscode-notebook-cell:/d%3A/2022/prediction/Project1_NGSIM/baseline3.0_csLSTM/conv-social-pooling-master/NGSIM_try/debug.ipynb#X11sZmlsZQ%3D%3D?line=10'>11</a>\u001b[0m torch\u001b[39m.\u001b[39;49msave(a,model_path)\n\u001b[0;32m     <a href='vscode-notebook-cell:/d%3A/2022/prediction/Project1_NGSIM/baseline3.0_csLSTM/conv-social-pooling-master/NGSIM_try/debug.ipynb#X11sZmlsZQ%3D%3D?line=12'>13</a>\u001b[0m \u001b[39mprint\u001b[39m(model_path)\n",
      "File \u001b[1;32m~\\AppData\\Roaming\\Python\\Python39\\site-packages\\torch\\serialization.py:422\u001b[0m, in \u001b[0;36msave\u001b[1;34m(obj, f, pickle_module, pickle_protocol, _use_new_zipfile_serialization)\u001b[0m\n\u001b[0;32m    419\u001b[0m _check_dill_version(pickle_module)\n\u001b[0;32m    421\u001b[0m \u001b[39mif\u001b[39;00m _use_new_zipfile_serialization:\n\u001b[1;32m--> 422\u001b[0m     \u001b[39mwith\u001b[39;00m _open_zipfile_writer(f) \u001b[39mas\u001b[39;00m opened_zipfile:\n\u001b[0;32m    423\u001b[0m         _save(obj, opened_zipfile, pickle_module, pickle_protocol)\n\u001b[0;32m    424\u001b[0m         \u001b[39mreturn\u001b[39;00m\n",
      "File \u001b[1;32m~\\AppData\\Roaming\\Python\\Python39\\site-packages\\torch\\serialization.py:309\u001b[0m, in \u001b[0;36m_open_zipfile_writer\u001b[1;34m(name_or_buffer)\u001b[0m\n\u001b[0;32m    307\u001b[0m \u001b[39melse\u001b[39;00m:\n\u001b[0;32m    308\u001b[0m     container \u001b[39m=\u001b[39m _open_zipfile_writer_buffer\n\u001b[1;32m--> 309\u001b[0m \u001b[39mreturn\u001b[39;00m container(name_or_buffer)\n",
      "File \u001b[1;32m~\\AppData\\Roaming\\Python\\Python39\\site-packages\\torch\\serialization.py:287\u001b[0m, in \u001b[0;36m_open_zipfile_writer_file.__init__\u001b[1;34m(self, name)\u001b[0m\n\u001b[0;32m    286\u001b[0m \u001b[39mdef\u001b[39;00m \u001b[39m__init__\u001b[39m(\u001b[39mself\u001b[39m, name) \u001b[39m-\u001b[39m\u001b[39m>\u001b[39m \u001b[39mNone\u001b[39;00m:\n\u001b[1;32m--> 287\u001b[0m     \u001b[39msuper\u001b[39m(_open_zipfile_writer_file, \u001b[39mself\u001b[39m)\u001b[39m.\u001b[39m\u001b[39m__init__\u001b[39m(torch\u001b[39m.\u001b[39;49m_C\u001b[39m.\u001b[39;49mPyTorchFileWriter(\u001b[39mstr\u001b[39;49m(name)))\n",
      "\u001b[1;31mRuntimeError\u001b[0m: [enforce fail at C:\\actions-runner\\_work\\pytorch\\pytorch\\builder\\windows\\pytorch\\caffe2\\serialize\\inline_container.cc:354] . invalid file name: models\\2022-12-05-16-19-18\\.csv"
     ]
    }
   ],
   "source": [
    "import time\n",
    "import torch\n",
    "import os\n",
    "file_time=time.strftime('%Y-%m-%d-%H-%M-%S')\n",
    "print(file_time)\n",
    "# print(os.path.join())\n",
    "if not os.path.isdir('./models'):\n",
    "    os.mkdir('./models')\n",
    "model_path=os.path.join('models',file_time,'.csv')\n",
    "a=torch.tensor([[1.1,2.2,3.3],[0,0,0]])\n",
    "torch.save(a,model_path)\n",
    "\n",
    "print(model_path)\n"
   ]
  },
  {
   "cell_type": "code",
   "execution_count": 8,
   "metadata": {},
   "outputs": [
    {
     "name": "stdout",
     "output_type": "stream",
     "text": [
      "2\n"
     ]
    }
   ],
   "source": [
    "import torch\n",
    "a=torch.tensor([[1,2],[3,4]])\n",
    "b=len(a)\n",
    "print(b)"
   ]
  },
  {
   "cell_type": "code",
   "execution_count": 3,
   "metadata": {},
   "outputs": [
    {
     "data": {
      "text/plain": [
       "'models/cslstm_m_2022-12-06-19-02-27.ckpt'"
      ]
     },
     "execution_count": 3,
     "metadata": {},
     "output_type": "execute_result"
    }
   ],
   "source": [
    "import os\n",
    "import time\n",
    "file_time=time.strftime('%Y-%m-%d-%H-%M-%S')\n",
    "if not os.path.isdir('./models'):\n",
    "    os.mkdir('./models')\n",
    "model_path='models/cslstm_m_'+file_time+'.ckpt' \n",
    "model_path"
   ]
  },
  {
   "cell_type": "code",
   "execution_count": 2,
   "metadata": {},
   "outputs": [
    {
     "name": "stdout",
     "output_type": "stream",
     "text": [
      "1.0\n"
     ]
    }
   ],
   "source": [
    "import math\n",
    "a=math.e\n",
    "print(math.log(a))"
   ]
  },
  {
   "cell_type": "markdown",
   "metadata": {},
   "source": [
    "2023.1.15"
   ]
  },
  {
   "cell_type": "code",
   "execution_count": 7,
   "metadata": {},
   "outputs": [],
   "source": [
    "import numpy as np"
   ]
  },
  {
   "cell_type": "code",
   "execution_count": 8,
   "metadata": {},
   "outputs": [
    {
     "name": "stdout",
     "output_type": "stream",
     "text": [
      "[0. 0.]\n",
      "[0. 0.]\n"
     ]
    }
   ],
   "source": [
    "a=np.zeros(2)\n",
    "b=np.zeros([2])\n",
    "print(a)\n",
    "print(b)"
   ]
  },
  {
   "cell_type": "code",
   "execution_count": 19,
   "metadata": {},
   "outputs": [
    {
     "data": {
      "text/plain": [
       "array([0, 1])"
      ]
     },
     "execution_count": 19,
     "metadata": {},
     "output_type": "execute_result"
    }
   ],
   "source": [
    "a=np.eye(2)[1].astype(int)"
   ]
  },
  {
   "cell_type": "code",
   "execution_count": 54,
   "metadata": {},
   "outputs": [
    {
     "name": "stdout",
     "output_type": "stream",
     "text": [
      "(array([1, 2, 3], dtype=int64),)\n"
     ]
    },
    {
     "ename": "TypeError",
     "evalue": "'tuple' object is not callable",
     "output_type": "error",
     "traceback": [
      "\u001b[1;31m---------------------------------------------------------------------------\u001b[0m",
      "\u001b[1;31mTypeError\u001b[0m                                 Traceback (most recent call last)",
      "\u001b[1;32md:\\2023\\prediction\\Project1_NGSIM\\baseline3.0_csLSTM\\conv-social-pooling-master\\phase3_LSTM_baseline_v0_20230115\\debug.ipynb Cell 21\u001b[0m in \u001b[0;36m<cell line: 3>\u001b[1;34m()\u001b[0m\n\u001b[0;32m      <a href='vscode-notebook-cell:/d%3A/2023/prediction/Project1_NGSIM/baseline3.0_csLSTM/conv-social-pooling-master/phase3_LSTM_baseline_v0_20230115/debug.ipynb#X26sZmlsZQ%3D%3D?line=0'>1</a>\u001b[0m a\u001b[39m=\u001b[39mnp\u001b[39m.\u001b[39meye(\u001b[39m4\u001b[39m)\n\u001b[0;32m      <a href='vscode-notebook-cell:/d%3A/2023/prediction/Project1_NGSIM/baseline3.0_csLSTM/conv-social-pooling-master/phase3_LSTM_baseline_v0_20230115/debug.ipynb#X26sZmlsZQ%3D%3D?line=1'>2</a>\u001b[0m \u001b[39mprint\u001b[39m(np\u001b[39m.\u001b[39mwhere(a[:,\u001b[39m0\u001b[39m]\u001b[39m==\u001b[39m\u001b[39m0\u001b[39m))\n\u001b[1;32m----> <a href='vscode-notebook-cell:/d%3A/2023/prediction/Project1_NGSIM/baseline3.0_csLSTM/conv-social-pooling-master/phase3_LSTM_baseline_v0_20230115/debug.ipynb#X26sZmlsZQ%3D%3D?line=2'>3</a>\u001b[0m \u001b[39mprint\u001b[39m((np\u001b[39m.\u001b[39;49margwhere(a[:,\u001b[39m0\u001b[39;49m]\u001b[39m==\u001b[39;49m\u001b[39m0\u001b[39;49m))\u001b[39m.\u001b[39;49mshape())\n\u001b[0;32m      <a href='vscode-notebook-cell:/d%3A/2023/prediction/Project1_NGSIM/baseline3.0_csLSTM/conv-social-pooling-master/phase3_LSTM_baseline_v0_20230115/debug.ipynb#X26sZmlsZQ%3D%3D?line=3'>4</a>\u001b[0m \u001b[39mprint\u001b[39m(a\u001b[39m.\u001b[39msize)\n\u001b[0;32m      <a href='vscode-notebook-cell:/d%3A/2023/prediction/Project1_NGSIM/baseline3.0_csLSTM/conv-social-pooling-master/phase3_LSTM_baseline_v0_20230115/debug.ipynb#X26sZmlsZQ%3D%3D?line=4'>5</a>\u001b[0m \u001b[39mprint\u001b[39m(a\u001b[39m.\u001b[39mshape)\n",
      "\u001b[1;31mTypeError\u001b[0m: 'tuple' object is not callable"
     ]
    }
   ],
   "source": [
    "a=np.eye(4)\n",
    "print(np.where(a[:,0]==0))\n",
    "print((np.argwhere(a[:,0]==0)).shape())\n",
    "print(a.size)\n",
    "print(a.shape)"
   ]
  },
  {
   "cell_type": "code",
   "execution_count": 60,
   "metadata": {},
   "outputs": [
    {
     "name": "stdout",
     "output_type": "stream",
     "text": [
      "[[2 2]]\n",
      "(1, 2)\n"
     ]
    }
   ],
   "source": [
    "a=np.array([[2,2]])\n",
    "print(a)\n",
    "print(a.shape)"
   ]
  },
  {
   "cell_type": "code",
   "execution_count": 64,
   "metadata": {},
   "outputs": [
    {
     "name": "stdout",
     "output_type": "stream",
     "text": [
      "(1, 2, 3, 4, 5)\n",
      "5\n"
     ]
    }
   ],
   "source": [
    "def make():\n",
    "    return  1,2,3,4,5\n",
    "print(make())\n",
    "print(len(make()))"
   ]
  },
  {
   "cell_type": "code",
   "execution_count": 82,
   "metadata": {},
   "outputs": [
    {
     "data": {
      "text/plain": [
       "'torch.ByteTensor'"
      ]
     },
     "execution_count": 82,
     "metadata": {},
     "output_type": "execute_result"
    }
   ],
   "source": [
    "import torch\n",
    "a=torch.zeros(2,3,2,3).byte()\n",
    "a.type()"
   ]
  },
  {
   "cell_type": "code",
   "execution_count": 96,
   "metadata": {},
   "outputs": [
    {
     "data": {
      "text/plain": [
       "torch.float32"
      ]
     },
     "execution_count": 96,
     "metadata": {},
     "output_type": "execute_result"
    }
   ],
   "source": [
    "a=torch.ones(2).byte()\n",
    "# a=torch.tensor([1,2])\n",
    "a.dtype"
   ]
  },
  {
   "cell_type": "code",
   "execution_count": 1,
   "metadata": {},
   "outputs": [],
   "source": [
    "import torch"
   ]
  },
  {
   "cell_type": "code",
   "execution_count": 4,
   "metadata": {},
   "outputs": [
    {
     "name": "stdout",
     "output_type": "stream",
     "text": [
      "torch.Size([8, 5])\n"
     ]
    }
   ],
   "source": [
    "a=torch.ones(2,4,5)\n",
    "a=a.view(-1,5)\n",
    "print(a.shape)"
   ]
  },
  {
   "cell_type": "code",
   "execution_count": 32,
   "metadata": {},
   "outputs": [
    {
     "data": {
      "text/plain": [
       "torch.Size([2, 5, 2])"
      ]
     },
     "execution_count": 32,
     "metadata": {},
     "output_type": "execute_result"
    }
   ],
   "source": [
    "a=torch.ones(3,2).byte()\n",
    "b=torch.Tensor([[1,2],[3,4]])\n",
    "c=torch.cat((a,b),dim=0)\n",
    "d=c.repeat(2,1,1)\n",
    "d.shape"
   ]
  },
  {
   "cell_type": "code",
   "execution_count": 47,
   "metadata": {},
   "outputs": [
    {
     "name": "stdout",
     "output_type": "stream",
     "text": [
      "tensor([[2.],\n",
      "        [4.]]) torch.Size([2, 1])\n",
      "tensor([2., 4.]) torch.Size([2])\n"
     ]
    }
   ],
   "source": [
    "print(b[:,1:2],b[:,1:2].shape)\n",
    "print(b[:,1],b[:,1].shape)"
   ]
  },
  {
   "cell_type": "code",
   "execution_count": 1,
   "metadata": {},
   "outputs": [],
   "source": [
    "import torch"
   ]
  },
  {
   "cell_type": "code",
   "execution_count": 4,
   "metadata": {},
   "outputs": [],
   "source": [
    "\n",
    "def logsumexp(inputs, dim=None, keepdim=False):\n",
    "    if dim is None:\n",
    "        inputs = inputs.view(-1)\n",
    "        dim = 0\n",
    "    s, _ = torch.max(inputs, dim=dim, keepdim=True) #s是取max值\n",
    "    outputs = s + (inputs - s).exp().sum(dim=dim, keepdim=True).log() #没看懂？？max+（（x-max）取e，取和，取ln）\n",
    "    # outputs =inputs.sum(dim=dim, keepdim=True)\n",
    "    if not keepdim:\n",
    "        outputs = outputs.squeeze(dim)\n",
    "    return outputs,s\n",
    "\n"
   ]
  },
  {
   "cell_type": "code",
   "execution_count": 19,
   "metadata": {},
   "outputs": [
    {
     "name": "stdout",
     "output_type": "stream",
     "text": [
      "tensor([[1, 2, 3],\n",
      "        [4, 5, 6]])\n",
      "tensor([[3],\n",
      "        [6]])\n",
      "tensor([[0.4076],\n",
      "        [0.4076]])\n"
     ]
    }
   ],
   "source": [
    "a=torch.tensor([[1,2,3],[4,5,6]])\n",
    "print(a)\n",
    "dim=1\n",
    "if dim is None:\n",
    "        a = a.view(-1)\n",
    "        dim = 0\n",
    "        print(a)\n",
    "s,_=torch.max(a,dim=dim,keepdim=True)\n",
    "print(s)\n",
    "outputs=(a-s).exp().sum(dim=dim, keepdim=True).log()\n",
    "print(outputs)"
   ]
  },
  {
   "cell_type": "code",
   "execution_count": null,
   "metadata": {},
   "outputs": [],
   "source": []
  },
  {
   "cell_type": "code",
   "execution_count": null,
   "metadata": {},
   "outputs": [],
   "source": []
  }
 ],
 "metadata": {
  "kernelspec": {
   "display_name": "Python 3.9.11 ('week6')",
   "language": "python",
   "name": "python3"
  },
  "language_info": {
   "codemirror_mode": {
    "name": "ipython",
    "version": 3
   },
   "file_extension": ".py",
   "mimetype": "text/x-python",
   "name": "python",
   "nbconvert_exporter": "python",
   "pygments_lexer": "ipython3",
   "version": "3.9.11"
  },
  "orig_nbformat": 4,
  "vscode": {
   "interpreter": {
    "hash": "dc22443302a7e1520fd496d19808d411f95cd97f052bed8809baa60e4c089c3b"
   }
  }
 },
 "nbformat": 4,
 "nbformat_minor": 2
}
